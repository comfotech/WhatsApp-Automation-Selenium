{
 "cells": [
  {
   "cell_type": "code",
   "execution_count": 1,
   "metadata": {},
   "outputs": [
    {
     "name": "stderr",
     "output_type": "stream",
     "text": [
      "[WDM] - Current google-chrome version 85.0.4183\n"
     ]
    },
    {
     "name": "stdout",
     "output_type": "stream",
     "text": [
      " \n"
     ]
    },
    {
     "name": "stderr",
     "output_type": "stream",
     "text": [
      "[WDM] - Trying to download new driver from http://chromedriver.storage.googleapis.com/85.0.4183.87/chromedriver_mac64.zip\n",
      "[WDM] - Unpack archive /Users/alokmishra/.wdm/drivers/chromedriver/85.0.4183.87/mac64/chromedriver.zip\n"
     ]
    }
   ],
   "source": [
    "from selenium import webdriver\n",
    "from webdriver_manager.chrome import ChromeDriverManager\n",
    "\n",
    "driver = webdriver.Chrome(ChromeDriverManager().install())\n",
    "import pandas as pd\n",
    "import time\n",
    "import os"
   ]
  },
  {
   "cell_type": "code",
   "execution_count": 2,
   "metadata": {},
   "outputs": [],
   "source": [
    "# driver.get method() will navigate to a page given by the URL address\n",
    "driver.get(\"https://www.justdial.com/Kolkata/Computer-Stores/nct-10110698")"
   ]
  },
  {
   "cell_type": "code",
   "execution_count": 3,
   "metadata": {},
   "outputs": [],
   "source": [
    "def strings_to_num(argument): \n",
    "    \n",
    "    switcher = { \n",
    "        'dc': '+',\n",
    "        'fe': '(',\n",
    "        'hg': ')',\n",
    "        'ba': '-',\n",
    "        'acb': '0', \n",
    "        'yz': '1', \n",
    "        'wx': '2',\n",
    "        'vu': '3',\n",
    "        'ts': '4',\n",
    "        'rq': '5',\n",
    "        'po': '6',\n",
    "        'nm': '7',\n",
    "        'lk': '8',\n",
    "        'ji': '9'\n",
    "    } \n",
    "    \n",
    "    return switcher.get(argument, \"nothing\")"
   ]
  },
  {
   "cell_type": "code",
   "execution_count": 4,
   "metadata": {},
   "outputs": [],
   "source": [
    "storeDetails = driver.find_elements_by_class_name('store-details')\n",
    "\n",
    "\n",
    "nameList = []\n",
    "addressList = []\n",
    "numbersList = []\n",
    "\n",
    "for i in range(len(storeDetails)):\n",
    "    \n",
    "    name = storeDetails[i].find_element_by_class_name('lng_cont_name').text\n",
    "    address = storeDetails[i].find_element_by_class_name('cont_fl_addr').get_attribute('innerHTML')\n",
    "    contactList = storeDetails[i].find_elements_by_class_name('mobilesv')\n",
    "    \n",
    "    myList = []\n",
    "    \n",
    "    for j in range(len(contactList)):\n",
    "        \n",
    "        myString = contactList[j].get_attribute('class').split(\"-\")[1]\n",
    "    \n",
    "        myList.append(strings_to_num(myString))\n",
    "\n",
    "    nameList.append(name)\n",
    "    addressList.append(address)\n",
    "    numbersList.append(\"\".join(myList))\n",
    "\n",
    "\n",
    "    \n",
    "# intialise data of lists.\n",
    "data = {'Company Name':nameList,\n",
    "        'Address': addressList,\n",
    "        'Phone':numbersList}\n",
    "\n",
    "# Create DataFrame\n",
    "df = pd.DataFrame(data)"
   ]
  },
  {
   "cell_type": "code",
   "execution_count": 5,
   "metadata": {},
   "outputs": [
    {
     "data": {
      "text/html": [
       "<div>\n",
       "<style scoped>\n",
       "    .dataframe tbody tr th:only-of-type {\n",
       "        vertical-align: middle;\n",
       "    }\n",
       "\n",
       "    .dataframe tbody tr th {\n",
       "        vertical-align: top;\n",
       "    }\n",
       "\n",
       "    .dataframe thead th {\n",
       "        text-align: right;\n",
       "    }\n",
       "</style>\n",
       "<table border=\"1\" class=\"dataframe\">\n",
       "  <thead>\n",
       "    <tr style=\"text-align: right;\">\n",
       "      <th></th>\n",
       "      <th>Company Name</th>\n",
       "      <th>Address</th>\n",
       "      <th>Phone</th>\n",
       "    </tr>\n",
       "  </thead>\n",
       "  <tbody>\n",
       "    <tr>\n",
       "      <th>0</th>\n",
       "      <td>Ramria Associates Pvt Ltd</td>\n",
       "      <td>Convent School, Pr.. |</td>\n",
       "      <td>+(91)-9152496469</td>\n",
       "    </tr>\n",
       "    <tr>\n",
       "      <th>1</th>\n",
       "      <td>INDIA Gypsum Point</td>\n",
       "      <td>Sohna Road, Sohna .. |</td>\n",
       "      <td>+(91)-9152928251</td>\n",
       "    </tr>\n",
       "    <tr>\n",
       "      <th>2</th>\n",
       "      <td>Global Sourcing Company</td>\n",
       "      <td>Defense Colony, Ko.. |</td>\n",
       "      <td>+(91)-9152169768</td>\n",
       "    </tr>\n",
       "    <tr>\n",
       "      <th>3</th>\n",
       "      <td>Hindustan Marble House &amp; Hi..</td>\n",
       "      <td>Budh Chowk, Vasund.. |</td>\n",
       "      <td>+(91)-9152227255</td>\n",
       "    </tr>\n",
       "    <tr>\n",
       "      <th>4</th>\n",
       "      <td>Anandtraders Depot Pvt Ltd</td>\n",
       "      <td>National Highway 8.. |</td>\n",
       "      <td>+(91)-9152462699</td>\n",
       "    </tr>\n",
       "    <tr>\n",
       "      <th>...</th>\n",
       "      <td>...</td>\n",
       "      <td>...</td>\n",
       "      <td>...</td>\n",
       "    </tr>\n",
       "    <tr>\n",
       "      <th>94</th>\n",
       "      <td>Katyaal Builtech</td>\n",
       "      <td>Ajronda roada road.. |</td>\n",
       "      <td>+(91)-129-2283551</td>\n",
       "    </tr>\n",
       "    <tr>\n",
       "      <th>95</th>\n",
       "      <td>Kapil Enterprises</td>\n",
       "      <td>Block - A-65, Ghaz.. |</td>\n",
       "      <td>+(91)-0120-6578020</td>\n",
       "    </tr>\n",
       "    <tr>\n",
       "      <th>96</th>\n",
       "      <td>G Next Interior</td>\n",
       "      <td>Jain Colony Part -.. |</td>\n",
       "      <td>+(91)-9911189609</td>\n",
       "    </tr>\n",
       "    <tr>\n",
       "      <th>97</th>\n",
       "      <td>Parivartan Interiors</td>\n",
       "      <td>Nr. F Block, Noida.. |</td>\n",
       "      <td>+(91)-9810940440</td>\n",
       "    </tr>\n",
       "    <tr>\n",
       "      <th>98</th>\n",
       "      <td>Kmr Bath Concept</td>\n",
       "      <td>Nagar Police Chowk.. |</td>\n",
       "      <td>+(91)-9058280334</td>\n",
       "    </tr>\n",
       "  </tbody>\n",
       "</table>\n",
       "<p>99 rows × 3 columns</p>\n",
       "</div>"
      ],
      "text/plain": [
       "                     Company Name                 Address               Phone\n",
       "0       Ramria Associates Pvt Ltd  Convent School, Pr.. |    +(91)-9152496469\n",
       "1              INDIA Gypsum Point  Sohna Road, Sohna .. |    +(91)-9152928251\n",
       "2         Global Sourcing Company  Defense Colony, Ko.. |    +(91)-9152169768\n",
       "3   Hindustan Marble House & Hi..  Budh Chowk, Vasund.. |    +(91)-9152227255\n",
       "4      Anandtraders Depot Pvt Ltd  National Highway 8.. |    +(91)-9152462699\n",
       "..                            ...                     ...                 ...\n",
       "94               Katyaal Builtech  Ajronda roada road.. |   +(91)-129-2283551\n",
       "95              Kapil Enterprises  Block - A-65, Ghaz.. |  +(91)-0120-6578020\n",
       "96                G Next Interior  Jain Colony Part -.. |    +(91)-9911189609\n",
       "97           Parivartan Interiors  Nr. F Block, Noida.. |    +(91)-9810940440\n",
       "98               Kmr Bath Concept  Nagar Police Chowk.. |    +(91)-9058280334\n",
       "\n",
       "[99 rows x 3 columns]"
      ]
     },
     "execution_count": 5,
     "metadata": {},
     "output_type": "execute_result"
    }
   ],
   "source": [
    "df"
   ]
  },
  {
   "cell_type": "code",
   "execution_count": 6,
   "metadata": {},
   "outputs": [],
   "source": [
    "df.to_csv('demo1.csv', mode='a', header=False)"
   ]
  },
  {
   "cell_type": "code",
   "execution_count": null,
   "metadata": {},
   "outputs": [],
   "source": []
  }
 ],
 "metadata": {
  "kernelspec": {
   "display_name": "Python 3",
   "language": "python",
   "name": "python3"
  },
  "language_info": {
   "codemirror_mode": {
    "name": "ipython",
    "version": 3
   },
   "file_extension": ".py",
   "mimetype": "text/x-python",
   "name": "python",
   "nbconvert_exporter": "python",
   "pygments_lexer": "ipython3",
   "version": "3.7.6"
  }
 },
 "nbformat": 4,
 "nbformat_minor": 4
}
